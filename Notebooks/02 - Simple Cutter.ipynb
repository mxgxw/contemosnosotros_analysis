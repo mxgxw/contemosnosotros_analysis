{
 "cells": [
  {
   "cell_type": "markdown",
   "metadata": {},
   "source": [
    "## Simple Cutter\n",
    "This notebook includes a basic algorithm to cut the acts based on fixed references. This references are estimated from the average act."
   ]
  },
  {
   "cell_type": "code",
   "execution_count": 13,
   "metadata": {},
   "outputs": [],
   "source": [
    "import os,glob\n",
    "from PIL import Image\n",
    "import os.path"
   ]
  },
  {
   "cell_type": "markdown",
   "metadata": {},
   "source": [
    "First get all PNG files to process."
   ]
  },
  {
   "cell_type": "code",
   "execution_count": 14,
   "metadata": {},
   "outputs": [],
   "source": [
    "os.chdir('../actas_test')\n",
    "img_filenames = glob.glob('jrv*.png')"
   ]
  },
  {
   "cell_type": "markdown",
   "metadata": {},
   "source": [
    "## Cut areas\n",
    "The areas were derived from the average image using an image editor. We also define labels to easily identify the filenames"
   ]
  },
  {
   "cell_type": "code",
   "execution_count": 30,
   "metadata": {},
   "outputs": [],
   "source": [
    "labels = (\n",
    "    'sobr_n',\n",
    "    'sobr_t',\n",
    "    'inut_n',\n",
    "    'inut_t',\n",
    "    'fmln_n',\n",
    "    'fmln_t',\n",
    "    'gana_n',\n",
    "    'gana_t',\n",
    "    'vamos_n',\n",
    "    'vamos_t',\n",
    "    'arena_n',\n",
    "    'arena_t',\n",
    "    'pcn_n',\n",
    "    'pcn_t',\n",
    "    'pdc_n',\n",
    "    'pdc_t',\n",
    "    'ds_n',\n",
    "    'ds_t',\n",
    "    'coal_n',\n",
    "    'coal_t',\n",
    "    'impu_n',\n",
    "    'impu_t',\n",
    "    'nulo_n',\n",
    "    'nulo_t',\n",
    "    'abst_n',\n",
    "    'abst_t',\n",
    "    'escr_n',\n",
    "    'escr_t',\n",
    "    'falt_n',\n",
    "    'falt_t',\n",
    "    'padr_n',\n",
    "    'padr_t',\n",
    ")\n",
    "areas_to_cut = (\n",
    "    (493,143,756,265), # Sobrantes - number\n",
    "    (775,143,1339,265), # Sobrantes - text\n",
    "    (493,278,756,397), # Inutilizadas - number\n",
    "    (775,278,1339,397), # Inutilizadas - text\n",
    "    (493,408,756,528), # FMLN - number\n",
    "    (775,408,1339,528), # FMLN - text\n",
    "    (493,541,756,659), # GANA - number\n",
    "    (775,541,1339,659), # GANA - text\n",
    "    (493,670,756,790), # VAMOS - number\n",
    "    (775,670,1339,790), # VAMOS - text\n",
    "    (493,803,756,922), # ARENA - number\n",
    "    (775,803,1339,922), # ARENA - text\n",
    "    (493,934,756,1054), # PCN - number\n",
    "    (775,934,1339,1054), # PCN - text\n",
    "    (493,1066,756,1186), # PDC - number\n",
    "    (775,1066,1339,1186), # PDC - text\n",
    "    (493,1198,756,1317), # DS - number\n",
    "    (775,1198,1339,1317), # DS - text\n",
    "    (493,1329,756,1449), # COAL - number\n",
    "    (775,1329,1339,1449), # COAL - text\n",
    "    (493,1461,756,1580), # IMPU - number\n",
    "    (775,1461,1339,1580), # IMPU - text\n",
    "    (493,1592,756,1712), # NULO - number\n",
    "    (775,1592,1339,1712), # NULO - text\n",
    "    (493,1725,756,1844), # ABST - number\n",
    "    (775,1725,1339,1844), # ABST - text\n",
    "    (493,1855,756,1975), # ESCR - number\n",
    "    (775,1855,1339,1975), # ESCR - text\n",
    "    (493,1987,756,2107), # FALT - number\n",
    "    (775,1987,1339,2107), # FALT - text\n",
    "    (493,2119,756,2238), # PADR - number\n",
    "    (775,2119,1339,2238), # PADR - text\n",
    ")"
   ]
  },
  {
   "cell_type": "markdown",
   "metadata": {},
   "source": [
    "Now we can start cutting and storing the results. It's important to free memory to prevent using too much memory."
   ]
  },
  {
   "cell_type": "code",
   "execution_count": 31,
   "metadata": {},
   "outputs": [],
   "source": [
    "for file in img_filenames:\n",
    "    curr_img = Image.open(file)\n",
    "    filename = os.path.splitext(file)[0]\n",
    "    for i in range(0,len(labels)):\n",
    "        curr_cropped_img = curr_img.crop(areas_to_cut[i])\n",
    "        curr_cropped_img.save('./cut/'+filename+'_'+labels[i]+'.png')\n",
    "        curr_cropped_img.close()\n",
    "    curr_img.close()"
   ]
  },
  {
   "cell_type": "code",
   "execution_count": null,
   "metadata": {},
   "outputs": [],
   "source": []
  }
 ],
 "metadata": {
  "kernelspec": {
   "display_name": "Python 3",
   "language": "python",
   "name": "python3"
  },
  "language_info": {
   "codemirror_mode": {
    "name": "ipython",
    "version": 3
   },
   "file_extension": ".py",
   "mimetype": "text/x-python",
   "name": "python",
   "nbconvert_exporter": "python",
   "pygments_lexer": "ipython3",
   "version": "3.7.1"
  }
 },
 "nbformat": 4,
 "nbformat_minor": 2
}
