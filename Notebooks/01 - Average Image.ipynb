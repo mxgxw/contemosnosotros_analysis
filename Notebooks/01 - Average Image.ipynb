{
 "cells": [
  {
   "cell_type": "markdown",
   "metadata": {},
   "source": [
    "## Average pictures\n",
    "This notebook includes a simple average algorithm before processing all pool acts. The idea is to get a final picture that gives you a better idea  about wich parts of the act are more used to write data. The average resuld is going to help us to identify \"hot areas\" where people writes down data."
   ]
  },
  {
   "cell_type": "code",
   "execution_count": 3,
   "metadata": {},
   "outputs": [],
   "source": [
    "from skimage import io as img_io\n",
    "import os\n",
    "import glob\n",
    "import numpy as np"
   ]
  },
  {
   "cell_type": "markdown",
   "metadata": {},
   "source": [
    "First, read all images available as a collection:"
   ]
  },
  {
   "cell_type": "code",
   "execution_count": 4,
   "metadata": {},
   "outputs": [],
   "source": [
    "os.chdir('../actas_test')\n",
    "img_filenames = glob.glob('*.png')\n",
    "jrv_collection = img_io.imread_collection(img_filenames)"
   ]
  },
  {
   "cell_type": "markdown",
   "metadata": {},
   "source": [
    "We add all images together. It's important to cast the first image to a bigger datatype to prevent buffer overflows. We are going to use an 32 bit unsigned integer."
   ]
  },
  {
   "cell_type": "code",
   "execution_count": 5,
   "metadata": {},
   "outputs": [],
   "source": [
    "img_sum = np.matrix(np.zeros([2250,4080])).astype('uint32')\n",
    "n = 0\n",
    "for jrv_act in jrv_collection:\n",
    "    img_sum = img_sum.__add__((jrv_act).astype('uint32'))\n",
    "    n += 1\n",
    "img_avg = (img_sum/n).astype('uint8')\n",
    "img_io.imsave(\"img_avg.png\", img_avg)"
   ]
  },
  {
   "cell_type": "markdown",
   "metadata": {},
   "source": [
    "Resultado:\n",
    "![Actas](../actas_test/img_avg.png)"
   ]
  },
  {
   "cell_type": "markdown",
   "metadata": {},
   "source": [
    "## Notas importantes:\n",
    "* Se observa como existe una alineación consistente entre las actas, pero existe otro juego de actas cuya alineación no coincide perfectamente.\n",
    "* Parece que la mayoría de personas no se salió del recuadro para escribir los números, lo que facilita considerablemente el corte."
   ]
  },
  {
   "cell_type": "code",
   "execution_count": null,
   "metadata": {},
   "outputs": [],
   "source": []
  }
 ],
 "metadata": {
  "kernelspec": {
   "display_name": "Python 3",
   "language": "python",
   "name": "python3"
  },
  "language_info": {
   "codemirror_mode": {
    "name": "ipython",
    "version": 3
   },
   "file_extension": ".py",
   "mimetype": "text/x-python",
   "name": "python",
   "nbconvert_exporter": "python",
   "pygments_lexer": "ipython3",
   "version": "3.7.1"
  }
 },
 "nbformat": 4,
 "nbformat_minor": 2
}
